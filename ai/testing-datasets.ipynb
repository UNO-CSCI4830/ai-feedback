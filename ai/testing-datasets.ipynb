{
 "cells": [
  {
   "cell_type": "markdown",
   "metadata": {},
   "source": [
    "# Create New Example"
   ]
  },
  {
   "cell_type": "markdown",
   "metadata": {},
   "source": [
    "## Do This First"
   ]
  },
  {
   "cell_type": "code",
   "execution_count": 24,
   "metadata": {},
   "outputs": [],
   "source": [
    "import json\n",
    "import os"
   ]
  },
  {
   "cell_type": "markdown",
   "metadata": {},
   "source": [
    "## Input Data\n",
    "\n",
    "Paste the key concept, rubric, and example program in between the triple quotes. It's okay if it's multi-line."
   ]
  },
  {
   "cell_type": "code",
   "execution_count": null,
   "metadata": {},
   "outputs": [],
   "source": [
    "key_concept = \"\"\"\n",
    "Key Concept\n",
    "Create and use sprites.\n",
    "\"\"\"\n",
    "\n",
    "temp = key_concept.split(\"\\n\")\n",
    "print(temp)\n",
    "key_concept = temp[-2]\n",
    "print(key_concept)"
   ]
  },
  {
   "cell_type": "code",
   "execution_count": 21,
   "metadata": {},
   "outputs": [
    {
     "name": "stdout",
     "output_type": "stream",
     "text": [
      "Extensive Evidence: At least two sprites have been created with different animations that are drawn to the canvas at different locations. Each sprite has a unique and meaningful label.\n",
      "Convincing Evidence: At least two sprites were created with different animations that were drawn to the canvas. The sprites may not have different locations or unique and meaningful labels.\n",
      "Limited Evidence: At least one sprite has been created with an animation that is drawn to the canvas.\n",
      "No Evidence: No sprites were created or were created without an animation - shown by a gray square.\n"
     ]
    }
   ],
   "source": [
    "rubric = \"\"\"\n",
    "Rubric\n",
    "Extensive Evidence\n",
    "At least two sprites have been created with different animations that are drawn to the canvas at different locations. Each sprite has a unique and meaningful label.\n",
    "\n",
    "Convincing Evidence\n",
    "At least two sprites were created with different animations that were drawn to the canvas. The sprites may not have different locations or unique and meaningful labels.\n",
    "\n",
    "Limited Evidence\n",
    "At least one sprite has been created with an animation that is drawn to the canvas.\n",
    "\n",
    "No Evidence\n",
    "No sprites were created or were created without an animation - shown by a gray square.\n",
    "\"\"\"\n",
    "\n",
    "rubric_dict = {}\n",
    "rubric_list = rubric.split(\"\\n\")\n",
    "for x in range(0, len(rubric_list)):\n",
    "    line = rubric_list[x]\n",
    "    if \"Evidence\" in line:\n",
    "        key, value = rubric_list[x], rubric_list[x + 1]\n",
    "        rubric_dict[key.strip()] = value.strip()\n",
    "for key,val in rubric_dict.items():\n",
    "    print(key + \": \" + val)"
   ]
  },
  {
   "cell_type": "code",
   "execution_count": 5,
   "metadata": {},
   "outputs": [],
   "source": [
    "exemplar = \"\"\"\n",
    "var sprite = createSprite(200, 200);\n",
    "sprite.setAnimation(\"crab_1\");\n",
    "var b = createSprite(75, 125);\n",
    "b.setAnimation(\"fork_1\");\n",
    "var c = createSprite(325, 125);\n",
    "c.setAnimation(\"knife_1\");\n",
    "drawSprites();\n",
    "\"\"\""
   ]
  },
  {
   "cell_type": "code",
   "execution_count": null,
   "metadata": {},
   "outputs": [],
   "source": [
    "data = {}\n",
    "data['key_concept'] = key_concept\n",
    "data['rubric'] = rubric_dict\n",
    "data['exemplar'] = exemplar\n",
    "\n",
    "filename = input(\"Enter a filename for this (without .json)\")\n",
    "folder = \"testing-data\"\n",
    "full_path = os.path.join(folder, filename + \".json\")\n",
    "with open(full_path, 'w') as out:\n",
    "    json.dump(data, out, indent=4)"
   ]
  },
  {
   "cell_type": "markdown",
   "metadata": {},
   "source": [
    "## Process\n",
    "\n",
    "Run the cells above, then then run this cell to process the data and save it as a JSON"
   ]
  },
  {
   "cell_type": "code",
   "execution_count": null,
   "metadata": {},
   "outputs": [],
   "source": []
  },
  {
   "cell_type": "code",
   "execution_count": null,
   "metadata": {},
   "outputs": [
    {
     "name": "stdout",
     "output_type": "stream",
     "text": [
      "['', 'Key Concept', 'Create and use sprites.', '']\n",
      "Create and use sprites.\n"
     ]
    }
   ],
   "source": []
  },
  {
   "cell_type": "code",
   "execution_count": null,
   "metadata": {},
   "outputs": [],
   "source": []
  },
  {
   "cell_type": "code",
   "execution_count": null,
   "metadata": {},
   "outputs": [],
   "source": []
  }
 ],
 "metadata": {
  "kernelspec": {
   "display_name": "ai-feedback",
   "language": "python",
   "name": "python3"
  },
  "language_info": {
   "codemirror_mode": {
    "name": "ipython",
    "version": 3
   },
   "file_extension": ".py",
   "mimetype": "text/x-python",
   "name": "python",
   "nbconvert_exporter": "python",
   "pygments_lexer": "ipython3",
   "version": "3.13.2"
  }
 },
 "nbformat": 4,
 "nbformat_minor": 2
}
