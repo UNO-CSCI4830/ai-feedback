{
 "cells": [
  {
   "cell_type": "markdown",
   "metadata": {},
   "source": [
    "# Create New Example"
   ]
  },
  {
   "cell_type": "markdown",
   "metadata": {},
   "source": [
    "## Do This First"
   ]
  },
  {
   "cell_type": "code",
   "execution_count": 69,
   "metadata": {},
   "outputs": [],
   "source": [
    "import json\n",
    "import os"
   ]
  },
  {
   "cell_type": "markdown",
   "metadata": {},
   "source": [
    "## Input Data\n",
    "\n",
    "Paste the key concept, rubric, and example program in between the triple quotes. It's okay if it's multi-line."
   ]
  },
  {
   "cell_type": "code",
   "execution_count": 70,
   "metadata": {},
   "outputs": [
    {
     "name": "stdout",
     "output_type": "stream",
     "text": [
      "['', 'Key Concept', 'Use conditionals to control the flow of a program; detect and respond to user input.', '']\n",
      "Use conditionals to control the flow of a program; detect and respond to user input.\n"
     ]
    }
   ],
   "source": [
    "# Replace with your own\n",
    "key_concept = \"\"\"\n",
    "Key Concept\n",
    "Use conditionals to control the flow of a program; detect and respond to user input.\n",
    "\"\"\"\n",
    "\n",
    "temp = key_concept.split(\"\\n\")\n",
    "print(temp)\n",
    "key_concept = temp[-2]\n",
    "print(key_concept)"
   ]
  },
  {
   "cell_type": "code",
   "execution_count": 71,
   "metadata": {},
   "outputs": [
    {
     "name": "stdout",
     "output_type": "stream",
     "text": [
      "Extensive Evidence: The creature only shakes when the user presses the mouse, and the text only appears when the user is not pressing the mouse. Only one conditional block is used, and the program is error-free.\n",
      "Convincing Evidence: The creature only shakes when the user presses the mouse, and the text only appears when the user is not pressing the mouse, but there may be small errors, such as problems with the size of the text or positioning of the creature.\n",
      "Limited Evidence: There is an else clause used, but there are major errors in the program that keep the program from running properly.\n",
      "No Evidence: There is no else clause.\n"
     ]
    }
   ],
   "source": [
    "# Replace with your own\n",
    "rubric = \"\"\"\n",
    "Rubric\n",
    "Extensive Evidence\n",
    "The creature only shakes when the user presses the mouse, and the text only appears when the user is not pressing the mouse. Only one conditional block is used, and the program is error-free.\n",
    "\n",
    "Convincing Evidence\n",
    "The creature only shakes when the user presses the mouse, and the text only appears when the user is not pressing the mouse, but there may be small errors, such as problems with the size of the text or positioning of the creature.\n",
    "\n",
    "Limited Evidence\n",
    "There is an else clause used, but there are major errors in the program that keep the program from running properly.\n",
    "\n",
    "No Evidence\n",
    "There is no else clause.\n",
    "\"\"\"\n",
    "\n",
    "rubric_dict = {}\n",
    "rubric_list = rubric.split(\"\\n\")\n",
    "for x in range(0, len(rubric_list)):\n",
    "    line = rubric_list[x]\n",
    "    if \"Evidence\" in line:\n",
    "        key, value = rubric_list[x], rubric_list[x + 1]\n",
    "        rubric_dict[key.strip()] = value.strip()\n",
    "for key,val in rubric_dict.items():\n",
    "    print(key + \": \" + val)"
   ]
  },
  {
   "cell_type": "code",
   "execution_count": 72,
   "metadata": {},
   "outputs": [],
   "source": [
    "# Replace with your own\n",
    "exemplar = \"\"\"\n",
    "var backdrop = createSprite(200,200);\n",
    "backdrop.setAnimation(\"sky\");\n",
    "var creature = createSprite(200,250);\n",
    "creature.setAnimation(\"creature\");\n",
    "creature.scale = 0.2;\n",
    "function draw() {\n",
    "  drawSprites();\n",
    "  //shake the sprite when the mouse is pressed\n",
    "  if (mouseDown(\"leftButton\")) {\n",
    "    creature.rotation = randomNumber(-5,5);\n",
    "  } else {\n",
    "    fill(\"black\");\n",
    "    textSize(40);\n",
    "    text(\"Press the mouse to shake the creature.\", 20, 50, 360, 100);\n",
    "  }\n",
    "}\n",
    "\"\"\""
   ]
  },
  {
   "cell_type": "code",
   "execution_count": 73,
   "metadata": {},
   "outputs": [],
   "source": [
    "# Creates a python dictionary with the key concept, rubric, and exemplar\n",
    "data = {}\n",
    "data['key_concept'] = key_concept\n",
    "data['rubric'] = rubric_dict\n",
    "data['exemplar'] = exemplar\n",
    "\n",
    "# Convers the dict to json and saves it\n",
    "filename = input(\"Enter a filename for this (without .json)\")\n",
    "folder = \"testing-data\"\n",
    "full_path = os.path.join(folder, filename + \".json\")\n",
    "with open(full_path, 'w') as out:\n",
    "    json.dump(data, out, indent=4)"
   ]
  },
  {
   "cell_type": "markdown",
   "metadata": {},
   "source": [
    "## Load an Example\n",
    "\n",
    "Load a previously saved example"
   ]
  },
  {
   "cell_type": "code",
   "execution_count": 74,
   "metadata": {},
   "outputs": [
    {
     "name": "stdout",
     "output_type": "stream",
     "text": [
      "{\n",
      "    \"key_concept\": \"Use conditionals to control the flow of a program; detect and respond to user input.\",\n",
      "    \"rubric\": {\n",
      "        \"Extensive Evidence\": \"The creature only shakes when the user presses the mouse, and the text only appears when the user is not pressing the mouse. Only one conditional block is used, and the program is error-free.\",\n",
      "        \"Convincing Evidence\": \"The creature only shakes when the user presses the mouse, and the text only appears when the user is not pressing the mouse, but there may be small errors, such as problems with the size of the text or positioning of the creature.\",\n",
      "        \"Limited Evidence\": \"There is an else clause used, but there are major errors in the program that keep the program from running properly.\",\n",
      "        \"No Evidence\": \"There is no else clause.\"\n",
      "    },\n",
      "    \"exemplar\": \"\\nvar backdrop = createSprite(200,200);\\nbackdrop.setAnimation(\\\"sky\\\");\\nvar creature = createSprite(200,250);\\ncreature.setAnimation(\\\"creature\\\");\\ncreature.scale = 0.2;\\nfunction draw() {\\n  drawSprites();\\n  //shake the sprite when the mouse is pressed\\n  if (mouseDown(\\\"leftButton\\\")) {\\n    creature.rotation = randomNumber(-5,5);\\n  } else {\\n    fill(\\\"black\\\");\\n    textSize(40);\\n    text(\\\"Press the mouse to shake the creature.\\\", 20, 50, 360, 100);\\n  }\\n}\\n\"\n",
      "}\n"
     ]
    }
   ],
   "source": [
    "# Get the filename and full path\n",
    "filename = input(\"Enter the filename (including .json): \")\n",
    "if \".json\" not in filename:\n",
    "    filename += \".json\"\n",
    "full_path = os.path.join(\"testing-data\", filename)\n",
    "# Load the data\n",
    "loaded_data = {}\n",
    "with open(full_path, 'r') as file:\n",
    "    loaded_data = json.load(file)\n",
    "\n",
    "print(json.dumps(loaded_data, indent=4))"
   ]
  }
 ],
 "metadata": {
  "kernelspec": {
   "display_name": "ai-feedback",
   "language": "python",
   "name": "python3"
  },
  "language_info": {
   "codemirror_mode": {
    "name": "ipython",
    "version": 3
   },
   "file_extension": ".py",
   "mimetype": "text/x-python",
   "name": "python",
   "nbconvert_exporter": "python",
   "pygments_lexer": "ipython3",
   "version": "3.13.2"
  }
 },
 "nbformat": 4,
 "nbformat_minor": 2
}
