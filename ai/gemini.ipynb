{
 "cells": [
  {
   "cell_type": "code",
   "execution_count": null,
   "metadata": {},
   "outputs": [],
   "source": [
    "# Import Stattements\n",
    "!pip install google-genai\n",
    "\n",
    "import base64\n",
    "import os\n",
    "from google import genai\n",
    "from google.genai import types\n",
    "import json"
   ]
  },
  {
   "cell_type": "code",
   "execution_count": null,
   "metadata": {},
   "outputs": [],
   "source": [
    "# Put your own Google Console API key here!\n",
    "GEMINI_KEY=\"PASTE_KEY_HERE\""
   ]
  },
  {
   "cell_type": "code",
   "execution_count": null,
   "metadata": {},
   "outputs": [],
   "source": [
    "# Do not change! Just run this cell!\n",
    "SYSTEM_PROMPT = \"\"\"You are an expert code evaluator tasked with assessing student work according to a detailed rubric. You will be provided with the following inputs in a JSON format:\n",
    "\n",
    "- Key Concept: The central idea or skill that the student should demonstrate in their program.\n",
    "- Rubric: A criteria-based scoring guide with descriptions for various performance levels.\n",
    "- Exemplar Program: A reference implementation that fully demonstrates the key concept at the highest level of the rubric.\n",
    "- Student Program: The code written by the student to be evaluated.\n",
    "\n",
    "Your task is to analyze the student program in relation to the key concept, rubric, and exemplar program, and return a structured evaluation in valid JSON format.\n",
    "\n",
    "Your output must exactly match this JSON structure:\n",
    "\n",
    "```\n",
    "{\n",
    "  \\\"recommended_rating\\\": \\\"string\\\",\n",
    "  \\\"justification\\\": [\n",
    "    \\\"string\\\",\n",
    "    \\\"string\\\",\n",
    "    \\\"... (additional specific justifications)\\\"\n",
    "  ],\n",
    "  \\\"feedback\\\": {\n",
    "    \\\"what_went_well\\\": \\\"string\\\",\n",
    "    \\\"areas_for_improvement\\\": \\\"string\\\"\n",
    "  }\n",
    "}\n",
    "```\n",
    "Field descriptions:\n",
    "- \\\"recommended_rating\\\": A string value representing the overall rating based on the rubric (e.g., \\\"4 - Exceeds Expectations\\\", \\\"Partially Meets\\\", etc.).\n",
    "- \\\"justification\\\": An array of specific, concise justifications that support the rating. Each justification should reference a particular aspect of the student’s code and how it aligns or misaligns with the rubric and exemplar.\n",
    "- \\\"feedback.what_went_well\\\": A student-friendly explanation of strengths in the code, emphasizing alignment with the rubric.\n",
    "- \\\"feedback.areas_for_improvement\\\": Actionable suggestions that clearly connect to rubric expectations and highlight opportunities for growth.\n",
    "\n",
    "Evaluation Guidelines:\n",
    "- Each item in the justification array should be a standalone observation or comparison.\n",
    "- Reference specific evidence and line numbers from the student code where applicable.\n",
    "- Be objective and avoid assumptions about student intent.\n",
    "- Language should be clear, specific, and rubric-aligned.\n",
    "- Feedback responses should be written for a middle-school student with appropriate tone and voice.\n",
    "- Respond only with a valid JSON object, properly formatted.\"\"\""
   ]
  },
  {
   "cell_type": "markdown",
   "metadata": {},
   "source": [
    "Choose **Only 1** Of the options below to run - do not run all 3 cells below!"
   ]
  },
  {
   "cell_type": "code",
   "execution_count": null,
   "metadata": {},
   "outputs": [],
   "source": [
    "# OPTION 1 - COMPLETELY PREFILLED EXAMPLE\n",
    "# Use this if you just want to test the notebook\n",
    "USER_INPUT = \"\"\"{\n",
    "    \"key_concept\": \"Detect and respond to user input from the keyboard.\",\n",
    "    \"rubric\": {\n",
    "        \"Extensive Evidence\": \"The sprite moves correctly in response to all four arrow keys. There are no extra `if` statements.\",\n",
    "        \"Convincing Evidence\": \"The sprite moves in response to multiple arrow keys, but may have some errors.\",\n",
    "        \"Limited Evidence\": \"The program uses an `if` statement to detect user input.\",\n",
    "        \"No Evidence\": \"The program does not detect user input.\"\n",
    "    },\n",
    "    \"exemplar\": \"\\nvar backdrop = createSprite(200,200);\\nbackdrop.setAnimation(\\\"rainbow\\\");\\nvar flyer = createSprite(200,200);\\nflyer.setAnimation(\\\"wing_bot\\\");\\n\\nfunction draw() {\\n  //move left when the left arrow is pressed\\n  if (keyDown(\\\"left\\\")) {\\n    flyer.x = flyer.x - 5;\\n  }\\n  //move right when the right arrow is pressed\\n  if (keyDown(\\\"right\\\")) {\\n    flyer.x = flyer.x + 5;\\n  }\\n  //move up when the up arrow is pressed\\n  if (keyDown(\\\"up\\\")) {\\n    flyer.y = flyer.y - 5;\\n  }\\n  //move down when the down arrow is pressed\\n  if (keyDown(\\\"down\\\")) {\\n    flyer.y = flyer.y + 5;\\n  }\\n  drawSprites();\\n}\\n\",\n",
    "    \"student_code\": \"var bug = createSprite(200, 200);\\nbug.setAnimation(\\\"ladybug\\\");\\n\\nfunction draw() {\\n  //Draw Background\\n  background(\\\"white\\\");\\n  // Update Values\\n  // If the right arrow is pressed, \\n  // move the sprite right on the screen\\n  if (keyDown(\\\"right\\\")) {\\n    bug.x = bug.x + 5;\\n    bug.setAnimation(\\\"ladybug_copy_1\\\");\\n  }\\n  if (keyDown(\\\"left\\\")) {\\n    bug.x = bug.x - 5;\\n    bug.setAnimation(\\\"ladybug\\\");\\n  }\\n  if (keyDown(\\\"down\\\")) {\\n    bug.y = bug.y + 5;\\n    bug.setAnimation(\\\"ladybug_copy_1_copy_1_copy_1\\\");\\n  }\\n  if (keyDown(\\\"up\\\")) {\\n    bug.y = bug.y - 5;\\n    bug.setAnimation(\\\"ladybug_copy_1_copy_1\\\");\\n  }\\n\\n  //Draw Animations\\n  drawSprites();\\n}\\n\"\n",
    "}\"\"\"\n",
    "USER_INPUT = json.dumps(USER_INPUT)\n",
    "print(USER_INPUT)"
   ]
  },
  {
   "cell_type": "code",
   "execution_count": null,
   "metadata": {},
   "outputs": [
    {
     "name": "stdout",
     "output_type": "stream",
     "text": [
      "\"{\\n    \\\"key_concept\\\": \\\"Detect and respond to user input from the keyboard.\\\",\\n    \\\"rubric\\\": {\\n        \\\"Extensive Evidence\\\": \\\"The sprite moves correctly in response to all four arrow keys. There are no extra `if` statements.\\\",\\n        \\\"Convincing Evidence\\\": \\\"The sprite moves in response to multiple arrow keys, but may have some errors.\\\",\\n        \\\"Limited Evidence\\\": \\\"The program uses an `if` statement to detect user input.\\\",\\n        \\\"No Evidence\\\": \\\"The program does not detect user input.\\\"\\n    },\\n    \\\"exemplar\\\": \\\"\\nvar backdrop = createSprite(200,200);\\nbackdrop.setAnimation(\\\"rainbow\\\");\\nvar flyer = createSprite(200,200);\\nflyer.setAnimation(\\\"wing_bot\\\");\\n\\nfunction draw() {\\n  //move left when the left arrow is pressed\\n  if (keyDown(\\\"left\\\")) {\\n    flyer.x = flyer.x - 5;\\n  }\\n  //move right when the right arrow is pressed\\n  if (keyDown(\\\"right\\\")) {\\n    flyer.x = flyer.x + 5;\\n  }\\n  //move up when the up arrow is pressed\\n  if (keyDown(\\\"up\\\")) {\\n    flyer.y = flyer.y - 5;\\n  }\\n  //move down when the down arrow is pressed\\n  if (keyDown(\\\"down\\\")) {\\n    flyer.y = flyer.y + 5;\\n  }\\n  drawSprites();\\n}\\n\\\",\\n    \\\"student_code\\\": \\\"var bug = createSprite(200, 200);\\nbug.setAnimation(\\\"ladybug\\\");\\n\\nfunction draw() {\\n  //Draw Background\\n  background(\\\"white\\\");\\n  // Update Values\\n  // If the right arrow is pressed, \\n  // move the sprite right on the screen\\n  if (keyDown(\\\"right\\\")) {\\n    bug.x = bug.x + 5;\\n    bug.setAnimation(\\\"ladybug_copy_1\\\");\\n  }\\n  if (keyDown(\\\"left\\\")) {\\n    bug.x = bug.x - 5;\\n    bug.setAnimation(\\\"ladybug\\\");\\n  }\\n  if (keyDown(\\\"down\\\")) {\\n    bug.y = bug.y + 5;\\n    bug.setAnimation(\\\"ladybug_copy_1_copy_1_copy_1\\\");\\n  }\\n  if (keyDown(\\\"up\\\")) {\\n    bug.y = bug.y - 5;\\n    bug.setAnimation(\\\"ladybug_copy_1_copy_1\\\");\\n  }\\n\\n  //Draw Animations\\n  drawSprites();\\n}\\n\\\"\\n}\"\n"
     ]
    }
   ],
   "source": [
    "# OPTION 2 - TEMPLATE EXAMPLE\n",
    "# This is to help make sure your input jSON is formatted correctly\n",
    "# This might be useful if you are copy-and-pasting from individual levels rather than a pre-filled example\n",
    "USER_INPUT = \"\"\"{\n",
    "    \"key_concept\": \"\",\n",
    "    \"rubric\": {\n",
    "        \"Extensive Evidence\": \"\",\n",
    "        \"Convincing Evidence\": \"\",\n",
    "        \"Limited Evidence\": \"\",\n",
    "        \"No Evidence\": \"\"\n",
    "    },\n",
    "    \"exemplar\": \"[Escaped string - use json.dumps to escape correctly]\",\n",
    "    \"student_code\": \"[Escaped string - use json.dumps to escape correctly]\"\n",
    "}\"\"\"\n",
    "USER_INPUT = json.dumps(USER_INPUT)\n",
    "print(USER_INPUT)"
   ]
  },
  {
   "cell_type": "code",
   "execution_count": null,
   "metadata": {},
   "outputs": [],
   "source": [
    "# OPTION 3 - COMPLETELY BLANK EXAMPLE\n",
    "# Use this if you're copying from the testing-data\n",
    "# You will need to add a nextra \"student_code\" field with the specific student code\n",
    "USER_INPUT = \"\"\"INPUT HERE\"\"\"\n",
    "USER_INPUT = json.dumps(USER_INPUT)\n",
    "print(USER_INPUT)"
   ]
  },
  {
   "cell_type": "markdown",
   "metadata": {},
   "source": [
    "This is the crux of the notebook, generated mostly from aistudio.google.com\n",
    "\n",
    "Specifically, this test: https://aistudio.google.com/app/prompts?state=%7B%22ids%22:%5B%221sliBIEfY1HfNV_liCjaki-eikxBGLHCL%22%5D,%22action%22:%22open%22,%22userId%22:%22111175367395645557415%22,%22resourceKeys%22:%7B%7D%7D&usp=sharing"
   ]
  },
  {
   "cell_type": "code",
   "execution_count": null,
   "metadata": {},
   "outputs": [],
   "source": [
    "def generate():\n",
    "    client = genai.Client(\n",
    "        api_key=GEMINI_KEY,\n",
    "    )\n",
    "\n",
    "    model = \"gemini-2.0-flash\"\n",
    "    contents = [\n",
    "        types.Content(\n",
    "            role=\"user\",\n",
    "            parts=[\n",
    "                types.Part.from_text(text=USER_INPUT),\n",
    "            ],\n",
    "        ),\n",
    "    ]\n",
    "    generate_content_config = types.GenerateContentConfig(\n",
    "        temperature=1,\n",
    "        top_p=0.95,\n",
    "        top_k=40,\n",
    "        max_output_tokens=8192,\n",
    "        response_mime_type=\"text/plain\",\n",
    "        system_instruction=[\n",
    "            types.Part.from_text(text=SYSTEM_PROMPT),\n",
    "        ],\n",
    "    )\n",
    "\n",
    "    for chunk in client.models.generate_content_stream(\n",
    "        model=model,\n",
    "        contents=contents,\n",
    "        config=generate_content_config,\n",
    "    ):\n",
    "        print(chunk.text, end=\"\")\n",
    "\n",
    "if __name__ == \"__main__\":\n",
    "    generate()\n"
   ]
  }
 ],
 "metadata": {
  "kernelspec": {
   "display_name": "ai-feedback",
   "language": "python",
   "name": "python3"
  },
  "language_info": {
   "codemirror_mode": {
    "name": "ipython",
    "version": 3
   },
   "file_extension": ".py",
   "mimetype": "text/x-python",
   "name": "python",
   "nbconvert_exporter": "python",
   "pygments_lexer": "ipython3",
   "version": "3.13.2"
  }
 },
 "nbformat": 4,
 "nbformat_minor": 2
}
